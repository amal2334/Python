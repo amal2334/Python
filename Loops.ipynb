{
  "nbformat": 4,
  "nbformat_minor": 0,
  "metadata": {
    "colab": {
      "provenance": [],
      "authorship_tag": "ABX9TyM+sTelCWJNbgYARVR+1TMQ",
      "include_colab_link": true
    },
    "kernelspec": {
      "name": "python3",
      "display_name": "Python 3"
    },
    "language_info": {
      "name": "python"
    }
  },
  "cells": [
    {
      "cell_type": "markdown",
      "metadata": {
        "id": "view-in-github",
        "colab_type": "text"
      },
      "source": [
        "<a href=\"https://colab.research.google.com/github/amal2334/Python/blob/main/Loops.ipynb\" target=\"_parent\"><img src=\"https://colab.research.google.com/assets/colab-badge.svg\" alt=\"Open In Colab\"/></a>"
      ]
    },
    {
      "cell_type": "markdown",
      "source": [
        "# **Introduction**:\n",
        "- in this lab ,we are going to see loops in python:\n",
        "  - Introduction to loops\n",
        "  - For loop\n",
        "    - Iteration over a range\n",
        "    - Iterating over a string\n",
        "\n",
        "  - While loop:\n",
        "  - loop control statments:\n",
        "    - Break\n",
        "    - continue\n",
        "    - pass\n",
        "  - Nested loops\n",
        "  -Practial examplesa and common errors"
      ],
      "metadata": {
        "id": "koqgz86GOtCb"
      }
    },
    {
      "cell_type": "code",
      "source": [],
      "metadata": {
        "id": "g4VJ3aCfAQ4Q"
      },
      "execution_count": null,
      "outputs": []
    },
    {
      "cell_type": "code",
      "source": [
        "#for loop :iretae ober a string of number\n",
        "\n",
        "range (10)"
      ],
      "metadata": {
        "colab": {
          "base_uri": "https://localhost:8080/"
        },
        "id": "je6fg-oXPUpi",
        "outputId": "c9d8f616-178b-4087-976c-058dd50c2918"
      },
      "execution_count": null,
      "outputs": [
        {
          "output_type": "execute_result",
          "data": {
            "text/plain": [
              "range(0, 10)"
            ]
          },
          "metadata": {},
          "execution_count": 3
        }
      ]
    },
    {
      "cell_type": "code",
      "source": [
        "for i in range (10):\n",
        "  print(i)\n",
        "\n",
        "  #the number are listed from 0 to 9 ,10 is not included"
      ],
      "metadata": {
        "colab": {
          "base_uri": "https://localhost:8080/"
        },
        "id": "C0ZsWtK-Pd2P",
        "outputId": "188faf8a-b6f7-4b54-982d-4bf6d738a6c1"
      },
      "execution_count": null,
      "outputs": [
        {
          "output_type": "stream",
          "name": "stdout",
          "text": [
            "0\n",
            "1\n",
            "2\n",
            "3\n",
            "4\n",
            "5\n",
            "6\n",
            "7\n",
            "8\n",
            "9\n"
          ]
        }
      ]
    },
    {
      "cell_type": "code",
      "source": [
        "for i in range (1,10):\n",
        "  print(i)\n",
        "  #we are starting from 1 to 10"
      ],
      "metadata": {
        "colab": {
          "base_uri": "https://localhost:8080/"
        },
        "id": "mefwuXrnPqZP",
        "outputId": "126801cb-830e-4d3f-e863-e8c966ba35f4"
      },
      "execution_count": null,
      "outputs": [
        {
          "output_type": "stream",
          "name": "stdout",
          "text": [
            "1\n",
            "2\n",
            "3\n",
            "4\n",
            "5\n",
            "6\n",
            "7\n",
            "8\n",
            "9\n"
          ]
        }
      ]
    },
    {
      "cell_type": "code",
      "source": [
        "range (1,10,1) #start ,end ,step\n",
        "for i in range (1,10,2):\n",
        "  print(i)"
      ],
      "metadata": {
        "colab": {
          "base_uri": "https://localhost:8080/"
        },
        "id": "Q55B123iPy_L",
        "outputId": "145147a5-75b7-4413-b986-02c54df252ae"
      },
      "execution_count": null,
      "outputs": [
        {
          "output_type": "stream",
          "name": "stdout",
          "text": [
            "1\n",
            "3\n",
            "5\n",
            "7\n",
            "9\n"
          ]
        }
      ]
    },
    {
      "cell_type": "code",
      "source": [
        "for i in range (10,1,-1):\n",
        "  print(i)"
      ],
      "metadata": {
        "colab": {
          "base_uri": "https://localhost:8080/"
        },
        "id": "Hg0-I-qQQEly",
        "outputId": "899b22e8-7b32-4e22-ccab-26e4bc2f8ec2"
      },
      "execution_count": null,
      "outputs": [
        {
          "output_type": "stream",
          "name": "stdout",
          "text": [
            "10\n",
            "9\n",
            "8\n",
            "7\n",
            "6\n",
            "5\n",
            "4\n",
            "3\n",
            "2\n"
          ]
        }
      ]
    },
    {
      "cell_type": "code",
      "source": [
        "# now we are going to iterate over strings\n",
        "#a  string is a collection of characters\n",
        "\n",
        "str=\"amal\"\n",
        "for  i in str :\n",
        "  print(i)"
      ],
      "metadata": {
        "colab": {
          "base_uri": "https://localhost:8080/"
        },
        "id": "bTjbVoKeQXaT",
        "outputId": "7ee65f75-5a82-4a52-b0c6-03ef7a6002e3"
      },
      "execution_count": null,
      "outputs": [
        {
          "output_type": "stream",
          "name": "stdout",
          "text": [
            "a\n",
            "m\n",
            "a\n",
            "l\n"
          ]
        }
      ]
    },
    {
      "cell_type": "code",
      "source": [
        "#while loop\n",
        "#a while loop continues to execute as long as the condition is true\n",
        "count =0\n",
        "while count <5:\n",
        "  print(count)\n",
        "  count +=1   # this called incrmentation ,kust like count =count+1\n",
        "\n"
      ],
      "metadata": {
        "colab": {
          "base_uri": "https://localhost:8080/"
        },
        "id": "fgHqyK4fQnA9",
        "outputId": "b4c48e04-e2f9-47bc-e248-43f90738fe9b"
      },
      "execution_count": null,
      "outputs": [
        {
          "output_type": "stream",
          "name": "stdout",
          "text": [
            "0\n",
            "1\n",
            "2\n",
            "3\n",
            "4\n"
          ]
        }
      ]
    },
    {
      "cell_type": "code",
      "source": [
        "count=0\n",
        "while count %2==0:\n",
        "  print(count)\n",
        "  count +=1"
      ],
      "metadata": {
        "colab": {
          "base_uri": "https://localhost:8080/"
        },
        "id": "IdniJitNRA2m",
        "outputId": "cab762dc-36e8-4f16-8cbf-90781054382f"
      },
      "execution_count": null,
      "outputs": [
        {
          "output_type": "stream",
          "name": "stdout",
          "text": [
            "0\n"
          ]
        }
      ]
    },
    {
      "cell_type": "code",
      "source": [
        "#loop control statments\n",
        "#break statment exits the loop prematurely\n",
        "\n",
        "for i in range (10):\n",
        "  if i==5:\n",
        "    break\n",
        "  print(i)\n",
        "\n",
        "  #when the loop reaches the 5 it get out from the loop\n"
      ],
      "metadata": {
        "colab": {
          "base_uri": "https://localhost:8080/"
        },
        "id": "CLn03bweRgI0",
        "outputId": "f3ff4666-cc0d-4383-9b5e-698696fc00e8"
      },
      "execution_count": null,
      "outputs": [
        {
          "output_type": "stream",
          "name": "stdout",
          "text": [
            "0\n",
            "1\n",
            "2\n",
            "3\n",
            "4\n"
          ]
        }
      ]
    },
    {
      "cell_type": "code",
      "source": [
        "#contine\n",
        "#the continue statment skips the current iteration andcontinues with the next itertion\n",
        "for i in range (10):\n",
        "  if i%2==0:\n",
        "    continue\n",
        "  print(i)\n",
        "\n",
        "  #we are skipping the even numbers"
      ],
      "metadata": {
        "colab": {
          "base_uri": "https://localhost:8080/"
        },
        "id": "7RCK8BnVR5es",
        "outputId": "d88f6c82-7003-4a73-dbc6-f60e89fa8431"
      },
      "execution_count": null,
      "outputs": [
        {
          "output_type": "stream",
          "name": "stdout",
          "text": [
            "1\n",
            "3\n",
            "5\n",
            "7\n",
            "9\n"
          ]
        }
      ]
    },
    {
      "cell_type": "code",
      "source": [
        "#pass\n",
        "# the pass statement is a null operation ,it does nothing\n",
        "\n",
        "for i in range(5):\n",
        "  if i==3:\n",
        "    pass\n",
        "    print(\"pass executed\")\n",
        "  print(i)"
      ],
      "metadata": {
        "colab": {
          "base_uri": "https://localhost:8080/"
        },
        "id": "jDPo97GdSlZb",
        "outputId": "5f9c107a-970e-491b-a483-14d23f9e48a2"
      },
      "execution_count": null,
      "outputs": [
        {
          "output_type": "stream",
          "name": "stdout",
          "text": [
            "0\n",
            "1\n",
            "2\n",
            "pass executed\n",
            "3\n",
            "4\n"
          ]
        }
      ]
    },
    {
      "cell_type": "code",
      "source": [
        "#nested loops\n",
        "# a loop inside  a loop\n",
        "for i in range (3):\n",
        "  for j in range (2):\n",
        "    print(f\"i={i},j={j}\")\n"
      ],
      "metadata": {
        "colab": {
          "base_uri": "https://localhost:8080/"
        },
        "id": "l4RHSe6cS5fb",
        "outputId": "442cb68e-5bcc-4051-e8dc-a06ab47a1a6d"
      },
      "execution_count": null,
      "outputs": [
        {
          "output_type": "stream",
          "name": "stdout",
          "text": [
            "i=0,j=0\n",
            "i=0,j=1\n",
            "i=1,j=0\n",
            "i=1,j=1\n",
            "i=2,j=0\n",
            "i=2,j=1\n"
          ]
        }
      ]
    },
    {
      "cell_type": "code",
      "source": [
        "#examples - calculate the sum of the first n natural numbers using a while loop and a for loop\n",
        "n=10\n",
        "sum=0\n",
        "i=1\n",
        "while i<=n:\n",
        "  sum=sum+ i\n",
        "  i+=1\n",
        "print(\"the sum of the first  10 nutural numbers :\",sum)"
      ],
      "metadata": {
        "colab": {
          "base_uri": "https://localhost:8080/"
        },
        "id": "HvxcL6pFTcTZ",
        "outputId": "016587ad-33b0-420e-d881-aa31d64e5700"
      },
      "execution_count": null,
      "outputs": [
        {
          "output_type": "stream",
          "name": "stdout",
          "text": [
            "the sum of the first  10 nutural numbers : 55\n"
          ]
        }
      ]
    },
    {
      "cell_type": "code",
      "source": [
        "n=10\n",
        "sum=0\n",
        "for i in range(11):\n",
        "  sum=sum+i\n",
        "\n",
        "print(\"the sum of the first  10 nutural numbers :\",sum)\n",
        "\n",
        "\n"
      ],
      "metadata": {
        "colab": {
          "base_uri": "https://localhost:8080/"
        },
        "id": "-Yc45ILjUgvh",
        "outputId": "2538a412-5ee1-4d63-8ad1-41705eb382f6"
      },
      "execution_count": null,
      "outputs": [
        {
          "output_type": "stream",
          "name": "stdout",
          "text": [
            "the sum of the first  10 nutural numbers : 55\n"
          ]
        }
      ]
    },
    {
      "cell_type": "code",
      "source": [
        "for num in range(1,101):\n",
        "  if num>1:\n",
        "    for i in range(2,num):\n",
        "      if (num%i)==0:\n",
        "        break\n",
        "    else:\n",
        "      print(num)\n"
      ],
      "metadata": {
        "colab": {
          "base_uri": "https://localhost:8080/"
        },
        "id": "CbNArXngWAQP",
        "outputId": "7da04ef5-c13f-4b63-96a0-f8e0343e5990"
      },
      "execution_count": null,
      "outputs": [
        {
          "output_type": "stream",
          "name": "stdout",
          "text": [
            "2\n",
            "3\n",
            "5\n",
            "7\n",
            "11\n",
            "13\n",
            "17\n",
            "19\n",
            "23\n",
            "29\n",
            "31\n",
            "37\n",
            "41\n",
            "43\n",
            "47\n",
            "53\n",
            "59\n",
            "61\n",
            "67\n",
            "71\n",
            "73\n",
            "79\n",
            "83\n",
            "89\n",
            "97\n"
          ]
        }
      ]
    },
    {
      "cell_type": "code",
      "source": [
        "#let's try to build now  a data structure\n",
        "frame={'id':50,'name':'amal','age':20}\n",
        "print(frame)\n",
        "frame.keys()\n",
        "frame.values()\n",
        "frame.items()\n",
        "#let 'get the value where item keyu equal 50\n",
        "frame.get('id')\n",
        "frame.get('name')\n",
        "\n"
      ],
      "metadata": {
        "colab": {
          "base_uri": "https://localhost:8080/",
          "height": 54
        },
        "id": "lfKgFDpOATP5",
        "outputId": "3ef6195c-e151-4a7d-987b-e63e1af94827"
      },
      "execution_count": null,
      "outputs": [
        {
          "output_type": "stream",
          "name": "stdout",
          "text": [
            "{'id': 50, 'name': 'amal', 'age': 20}\n"
          ]
        },
        {
          "output_type": "execute_result",
          "data": {
            "text/plain": [
              "'amal'"
            ],
            "application/vnd.google.colaboratory.intrinsic+json": {
              "type": "string"
            }
          },
          "metadata": {},
          "execution_count": 11
        }
      ]
    },
    {
      "cell_type": "code",
      "source": [
        "import pandas as pd\n",
        "df=pd.DataFrame(frame,index=[0])\n",
        "print(df)\n",
        "df\n",
        "df.describe()\n",
        "df.info()\n",
        "df.head()\n",
        "df.tail()\n",
        "#let us print the correlation\n",
        "corre=df[['age','id']]\n",
        "correlation=corre.corr()\n",
        "print(correlation)\n",
        "\n",
        "df.isnull().sum()\n",
        "\n",
        "\n"
      ],
      "metadata": {
        "colab": {
          "base_uri": "https://localhost:8080/",
          "height": 450
        },
        "id": "cUaWkfRhDm9-",
        "outputId": "9bf845ba-aec7-46bf-f984-58f623d575ad"
      },
      "execution_count": null,
      "outputs": [
        {
          "output_type": "stream",
          "name": "stdout",
          "text": [
            "   id  name  age\n",
            "0  50  amal   20\n",
            "<class 'pandas.core.frame.DataFrame'>\n",
            "Index: 1 entries, 0 to 0\n",
            "Data columns (total 3 columns):\n",
            " #   Column  Non-Null Count  Dtype \n",
            "---  ------  --------------  ----- \n",
            " 0   id      1 non-null      int64 \n",
            " 1   name    1 non-null      object\n",
            " 2   age     1 non-null      int64 \n",
            "dtypes: int64(2), object(1)\n",
            "memory usage: 32.0+ bytes\n",
            "     age  id\n",
            "age  NaN NaN\n",
            "id   NaN NaN\n"
          ]
        },
        {
          "output_type": "execute_result",
          "data": {
            "text/plain": [
              "id      0\n",
              "name    0\n",
              "age     0\n",
              "dtype: int64"
            ],
            "text/html": [
              "<div>\n",
              "<style scoped>\n",
              "    .dataframe tbody tr th:only-of-type {\n",
              "        vertical-align: middle;\n",
              "    }\n",
              "\n",
              "    .dataframe tbody tr th {\n",
              "        vertical-align: top;\n",
              "    }\n",
              "\n",
              "    .dataframe thead th {\n",
              "        text-align: right;\n",
              "    }\n",
              "</style>\n",
              "<table border=\"1\" class=\"dataframe\">\n",
              "  <thead>\n",
              "    <tr style=\"text-align: right;\">\n",
              "      <th></th>\n",
              "      <th>0</th>\n",
              "    </tr>\n",
              "  </thead>\n",
              "  <tbody>\n",
              "    <tr>\n",
              "      <th>id</th>\n",
              "      <td>0</td>\n",
              "    </tr>\n",
              "    <tr>\n",
              "      <th>name</th>\n",
              "      <td>0</td>\n",
              "    </tr>\n",
              "    <tr>\n",
              "      <th>age</th>\n",
              "      <td>0</td>\n",
              "    </tr>\n",
              "  </tbody>\n",
              "</table>\n",
              "</div><br><label><b>dtype:</b> int64</label>"
            ]
          },
          "metadata": {},
          "execution_count": 21
        }
      ]
    },
    {
      "cell_type": "code",
      "source": [],
      "metadata": {
        "id": "b-KD-N_VGFbg"
      },
      "execution_count": null,
      "outputs": []
    },
    {
      "cell_type": "markdown",
      "source": [
        "# **Conclusion**:\n",
        "- loops are very powerful in python ,they allow you to execute a block of code multiple times"
      ],
      "metadata": {
        "id": "JI3jmGiBW2ah"
      }
    },
    {
      "cell_type": "code",
      "source": [
        "#we will cretae alist\n",
        "list=[2,2,'amal',50,True]\n",
        "print(list)\n",
        "list.append(5)\n",
        "print(list)"
      ],
      "metadata": {
        "colab": {
          "base_uri": "https://localhost:8080/"
        },
        "id": "4_cvpgqlAi3f",
        "outputId": "36a60528-55c4-49b1-a1d7-40e35b0b7be8"
      },
      "execution_count": null,
      "outputs": [
        {
          "output_type": "stream",
          "name": "stdout",
          "text": [
            "[2, 2, 'amal', 50, True]\n",
            "[2, 2, 'amal', 50, True, 5]\n"
          ]
        }
      ]
    },
    {
      "cell_type": "code",
      "source": [],
      "metadata": {
        "id": "6t-hkoyfArIt"
      },
      "execution_count": null,
      "outputs": []
    }
  ]
}