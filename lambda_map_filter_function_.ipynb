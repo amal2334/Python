{
  "nbformat": 4,
  "nbformat_minor": 0,
  "metadata": {
    "colab": {
      "provenance": [],
      "authorship_tag": "ABX9TyOhWneyxbCkGwWedJAR2Hzx",
      "include_colab_link": true
    },
    "kernelspec": {
      "name": "python3",
      "display_name": "Python 3"
    },
    "language_info": {
      "name": "python"
    }
  },
  "cells": [
    {
      "cell_type": "markdown",
      "metadata": {
        "id": "view-in-github",
        "colab_type": "text"
      },
      "source": [
        "<a href=\"https://colab.research.google.com/github/amal2334/Python/blob/main/lambda_map_filter_function_.ipynb\" target=\"_parent\"><img src=\"https://colab.research.google.com/assets/colab-badge.svg\" alt=\"Open In Colab\"/></a>"
      ]
    },
    {
      "cell_type": "markdown",
      "source": [
        "- lambda function are small anonymous functions defines using the lamdba keyword\n",
        "- they can have any number of arguments but only one expressiom\n",
        "- they are commonly used for short operation or as arguments to higher -ordere function\n",
        "\n"
      ],
      "metadata": {
        "id": "2kw_c44Vg_Wl"
      }
    },
    {
      "cell_type": "markdown",
      "source": [
        "# **1-lambda function**"
      ],
      "metadata": {
        "id": "_oW9XRp_i8cY"
      }
    },
    {
      "cell_type": "code",
      "source": [
        "# syntax:lambda argument: expression"
      ],
      "metadata": {
        "id": "lf1maOHIhZFM"
      },
      "execution_count": null,
      "outputs": []
    },
    {
      "cell_type": "code",
      "source": [
        "def addition (a,b):\n",
        "  return a+b\n",
        "\n",
        "addition (5,6)"
      ],
      "metadata": {
        "colab": {
          "base_uri": "https://localhost:8080/"
        },
        "id": "i7zrFFHxhf-T",
        "outputId": "decd3d18-7ce2-48bd-ee62-49297ac466f3"
      },
      "execution_count": null,
      "outputs": [
        {
          "output_type": "execute_result",
          "data": {
            "text/plain": [
              "11"
            ]
          },
          "metadata": {},
          "execution_count": 3
        }
      ]
    },
    {
      "cell_type": "code",
      "source": [
        "addition=lambda a,b :a+b\n",
        "type(addition)"
      ],
      "metadata": {
        "colab": {
          "base_uri": "https://localhost:8080/"
        },
        "id": "hgkqsfpOhuBh",
        "outputId": "a66a7f5a-6628-4298-b6a5-11cb90ef97a4"
      },
      "execution_count": null,
      "outputs": [
        {
          "output_type": "execute_result",
          "data": {
            "text/plain": [
              "function"
            ]
          },
          "metadata": {},
          "execution_count": 5
        }
      ]
    },
    {
      "cell_type": "code",
      "source": [
        "addition(12,14)"
      ],
      "metadata": {
        "colab": {
          "base_uri": "https://localhost:8080/"
        },
        "id": "w1gywiZUhlIm",
        "outputId": "cfe2a543-0cf2-4bfd-de17-180ec5f6c458"
      },
      "execution_count": null,
      "outputs": [
        {
          "output_type": "execute_result",
          "data": {
            "text/plain": [
              "26"
            ]
          },
          "metadata": {},
          "execution_count": 6
        }
      ]
    },
    {
      "cell_type": "code",
      "source": [
        "def even(num):\n",
        "  if num%2==0:\n",
        "    return True\n",
        "  else:\n",
        "    return False\n",
        "\n"
      ],
      "metadata": {
        "id": "HYDUaRqdh7ZV"
      },
      "execution_count": null,
      "outputs": []
    },
    {
      "cell_type": "code",
      "source": [
        "even(2)"
      ],
      "metadata": {
        "colab": {
          "base_uri": "https://localhost:8080/"
        },
        "id": "IRXofgR2iGWY",
        "outputId": "fabb3d80-25d1-4446-96e3-3d5d9c9543ae"
      },
      "execution_count": null,
      "outputs": [
        {
          "output_type": "execute_result",
          "data": {
            "text/plain": [
              "True"
            ]
          },
          "metadata": {},
          "execution_count": 12
        }
      ]
    },
    {
      "cell_type": "code",
      "source": [
        "even(13)"
      ],
      "metadata": {
        "colab": {
          "base_uri": "https://localhost:8080/"
        },
        "id": "mcuuMTSSiOho",
        "outputId": "ab8baa78-3568-4b89-db94-c03551e93a05"
      },
      "execution_count": null,
      "outputs": [
        {
          "output_type": "execute_result",
          "data": {
            "text/plain": [
              "False"
            ]
          },
          "metadata": {},
          "execution_count": 15
        }
      ]
    },
    {
      "cell_type": "code",
      "source": [
        "even1=lambda num:num%2==0\n",
        "type(even1)\n"
      ],
      "metadata": {
        "colab": {
          "base_uri": "https://localhost:8080/"
        },
        "id": "rV9oT5yYiPqb",
        "outputId": "536ccf88-8a9c-4a02-b440-0d1462b58e64"
      },
      "execution_count": null,
      "outputs": [
        {
          "output_type": "execute_result",
          "data": {
            "text/plain": [
              "function"
            ]
          },
          "metadata": {},
          "execution_count": 17
        }
      ]
    },
    {
      "cell_type": "code",
      "source": [
        "even1(2)"
      ],
      "metadata": {
        "colab": {
          "base_uri": "https://localhost:8080/"
        },
        "id": "P5z8zV46iexB",
        "outputId": "ed784dcc-91d5-4e35-c39b-50cead703394"
      },
      "execution_count": null,
      "outputs": [
        {
          "output_type": "execute_result",
          "data": {
            "text/plain": [
              "True"
            ]
          },
          "metadata": {},
          "execution_count": 18
        }
      ]
    },
    {
      "cell_type": "code",
      "source": [
        "def addition (x, y, z):\n",
        "  return x+y+z\n",
        "\n",
        "addition (2,3,4)"
      ],
      "metadata": {
        "colab": {
          "base_uri": "https://localhost:8080/"
        },
        "id": "BsMvMpPtik4-",
        "outputId": "55d73923-415a-40f6-ba2f-c245f09f15ba"
      },
      "execution_count": null,
      "outputs": [
        {
          "output_type": "execute_result",
          "data": {
            "text/plain": [
              "9"
            ]
          },
          "metadata": {},
          "execution_count": 19
        }
      ]
    },
    {
      "cell_type": "code",
      "source": [
        "addition=lambda x,y,z:x+y+z\n",
        "type(addition)\n",
        "addition(2,3,4)"
      ],
      "metadata": {
        "colab": {
          "base_uri": "https://localhost:8080/"
        },
        "id": "ZRhR3r3Kitzz",
        "outputId": "bcf88829-4433-41b9-81ab-05e00f7721d1"
      },
      "execution_count": null,
      "outputs": [
        {
          "output_type": "execute_result",
          "data": {
            "text/plain": [
              "9"
            ]
          },
          "metadata": {},
          "execution_count": 21
        }
      ]
    },
    {
      "cell_type": "code",
      "source": [
        "## map () applies a function to all items in a list\n",
        "numbers=[1,2,3,4,5,6]\n",
        "def square (number):\n",
        "  return number**2\n",
        "\n",
        "square(2)\n",
        "\n",
        "#to get the square of one varianle is possible\n",
        "# to get the square of  alist of number we have two approches ; 1-loop iteration\n",
        "#2-map function\n",
        "\n",
        "list_numbers=[1,2,6,8,7]\n",
        "def square1 (list_number):\n",
        "  for i in list_number:\n",
        "    print(i**2)\n",
        "\n",
        "\n",
        "square1(list_numbers)\n"
      ],
      "metadata": {
        "colab": {
          "base_uri": "https://localhost:8080/"
        },
        "id": "J69Vkn1LjIBp",
        "outputId": "ff445f0f-b26b-4ef3-c39a-2a2ae41c4405"
      },
      "execution_count": null,
      "outputs": [
        {
          "output_type": "stream",
          "name": "stdout",
          "text": [
            "1\n",
            "4\n",
            "36\n",
            "64\n",
            "49\n"
          ]
        }
      ]
    },
    {
      "cell_type": "code",
      "source": [
        "# second method to calculate the square of the list of number\n",
        "list(map(lambda num:num**2,list_numbers))"
      ],
      "metadata": {
        "colab": {
          "base_uri": "https://localhost:8080/"
        },
        "id": "FGJSoyasjSpv",
        "outputId": "edd27a80-bbe9-42e3-bbdc-040aa8964703"
      },
      "execution_count": null,
      "outputs": [
        {
          "output_type": "execute_result",
          "data": {
            "text/plain": [
              "[1, 4, 36, 64, 49]"
            ]
          },
          "metadata": {},
          "execution_count": 27
        }
      ]
    },
    {
      "cell_type": "markdown",
      "source": [
        "# **map**\n",
        "- map () function applies a given function to all items in an input list (or any other iterable ) and returns a map obkect (an iterator) .this is particurarly useful for transforming data in a list comprehension."
      ],
      "metadata": {
        "id": "RaO2u2z5yOGN"
      }
    },
    {
      "cell_type": "code",
      "source": [
        "def square (x):\n",
        "  return x*x\n",
        "\n",
        "square(2)"
      ],
      "metadata": {
        "colab": {
          "base_uri": "https://localhost:8080/"
        },
        "id": "SDT59f1SylDL",
        "outputId": "6a6b1cbb-7438-4f46-ab02-9fe2416eb077"
      },
      "execution_count": null,
      "outputs": [
        {
          "output_type": "execute_result",
          "data": {
            "text/plain": [
              "4"
            ]
          },
          "metadata": {},
          "execution_count": 1
        }
      ]
    },
    {
      "cell_type": "code",
      "source": [
        "numbers=[1,2,3,4,5,6,8]\n",
        "# i wnat to applt the same function to this list\n",
        "list(map(square,numbers))\n"
      ],
      "metadata": {
        "colab": {
          "base_uri": "https://localhost:8080/"
        },
        "id": "RGhARKtEywE2",
        "outputId": "0b11bf5c-2673-42ee-84bd-c90427b91921"
      },
      "execution_count": null,
      "outputs": [
        {
          "output_type": "execute_result",
          "data": {
            "text/plain": [
              "[1, 4, 9, 16, 25, 36, 64]"
            ]
          },
          "metadata": {},
          "execution_count": 3
        }
      ]
    },
    {
      "cell_type": "code",
      "source": [
        "#lambda function\n",
        "numbers=[1,2,3,4,5,6,8]\n",
        "list(map(lambda x:x*x,numbers))"
      ],
      "metadata": {
        "colab": {
          "base_uri": "https://localhost:8080/"
        },
        "id": "ML-AO8Nby9LU",
        "outputId": "5b321fe0-a1ce-496e-d5bb-c41fb5ecc4d8"
      },
      "execution_count": null,
      "outputs": [
        {
          "output_type": "execute_result",
          "data": {
            "text/plain": [
              "[1, 4, 9, 16, 25, 36, 64]"
            ]
          },
          "metadata": {},
          "execution_count": 4
        }
      ]
    },
    {
      "cell_type": "code",
      "source": [
        "#can we map multiple iterbales\n",
        "numbers1=[1,2,3]\n",
        "numbers2=[4,5,6]\n",
        "list(map(lambda x,y:x+y,numbers1,numbers2))"
      ],
      "metadata": {
        "colab": {
          "base_uri": "https://localhost:8080/"
        },
        "id": "Xuh9C75WzjAe",
        "outputId": "57233dad-d6ec-4b4a-9d1e-47dbef1b27c0"
      },
      "execution_count": null,
      "outputs": [
        {
          "output_type": "execute_result",
          "data": {
            "text/plain": [
              "[5, 7, 9]"
            ]
          },
          "metadata": {},
          "execution_count": 5
        }
      ]
    },
    {
      "cell_type": "code",
      "source": [
        "words=['apple','banana','cherry']\n",
        "uper_words=list(map(lambda x:str.upper(x),words))\n",
        "uper_words"
      ],
      "metadata": {
        "colab": {
          "base_uri": "https://localhost:8080/"
        },
        "id": "KFg3lM0DzxNV",
        "outputId": "5577fc84-89af-4d95-dfea-97b860e3f416"
      },
      "execution_count": null,
      "outputs": [
        {
          "output_type": "execute_result",
          "data": {
            "text/plain": [
              "['APPLE', 'BANANA', 'CHERRY']"
            ]
          },
          "metadata": {},
          "execution_count": 6
        }
      ]
    },
    {
      "cell_type": "code",
      "source": [
        "def get_name(person):\n",
        "  return person['name']\n",
        "\n",
        "people=[{'name':'Alice','age':30},\n",
        " {'name':'Bob','age':25},\n",
        "  {'name':'Charlie','age':35}]\n",
        "names=list(map(get_name,people))\n",
        "names"
      ],
      "metadata": {
        "colab": {
          "base_uri": "https://localhost:8080/"
        },
        "id": "p_Y6D6Cq0e3o",
        "outputId": "970343ca-2cbb-4548-f00d-53c2a98281ab"
      },
      "execution_count": null,
      "outputs": [
        {
          "output_type": "execute_result",
          "data": {
            "text/plain": [
              "['Alice', 'Bob', 'Charlie']"
            ]
          },
          "metadata": {},
          "execution_count": 7
        }
      ]
    },
    {
      "cell_type": "markdown",
      "source": [
        "# **filter function**\n",
        "- the filter function contrusts an iterator for elemeents of an iterable for which a fucntion returns true, it is used to filter out items from a list (or any other iterable) based on a condition."
      ],
      "metadata": {
        "id": "_-5SF8C41FMH"
      }
    },
    {
      "cell_type": "code",
      "source": [
        "def even(num):\n",
        "  if num%2==0:\n",
        "    return True\n",
        "\n",
        "even(24)"
      ],
      "metadata": {
        "colab": {
          "base_uri": "https://localhost:8080/"
        },
        "id": "JgIXH_vy1orE",
        "outputId": "250c3e3d-f8a9-4a87-d442-b2764e6709fb"
      },
      "execution_count": null,
      "outputs": [
        {
          "output_type": "execute_result",
          "data": {
            "text/plain": [
              "True"
            ]
          },
          "metadata": {},
          "execution_count": 8
        }
      ]
    },
    {
      "cell_type": "code",
      "source": [
        "numbers=[1,2,3,4,5,6,7,8,9]\n",
        "greater_than_5=set(filter(lambda num:num>5,numbers))\n",
        "print(greater_than_5)\n"
      ],
      "metadata": {
        "colab": {
          "base_uri": "https://localhost:8080/"
        },
        "id": "dnwNIcw01zhy",
        "outputId": "8edd8749-94f0-46a4-e0a0-7746d53d4bec"
      },
      "execution_count": null,
      "outputs": [
        {
          "output_type": "stream",
          "name": "stdout",
          "text": [
            "{8, 9, 6, 7}\n"
          ]
        }
      ]
    },
    {
      "cell_type": "code",
      "source": [
        "#filter with a lambda function and multiple conditions\n",
        "numbers=[1,2,3,4,5,6,7,8,9]\n",
        "even_and_greater_than_5=set(filter(lambda num:num>5 and num%2==0,numbers))\n",
        "print(even_and_greater_than_5)"
      ],
      "metadata": {
        "colab": {
          "base_uri": "https://localhost:8080/"
        },
        "id": "YxhhTp2l19vA",
        "outputId": "b5341fdf-1e68-4c4b-f9e1-9f8556c013c9"
      },
      "execution_count": null,
      "outputs": [
        {
          "output_type": "stream",
          "name": "stdout",
          "text": [
            "{8, 6}\n"
          ]
        }
      ]
    },
    {
      "cell_type": "code",
      "source": [
        "people=[\n",
        "    {'name':'Alice','age':30},\n",
        "    {'name':'Bob','age':25},\n",
        "    {'name':'Charlie','age':35},\n",
        "    {'name':'David','age':28}\n",
        "]\n",
        "\n",
        "def age_greater_than_30(person):\n",
        "  return person['age']>30\n",
        "\n",
        "(filter(age_greater_than_30,people))\n"
      ],
      "metadata": {
        "colab": {
          "base_uri": "https://localhost:8080/",
          "height": 176
        },
        "id": "NYX4-OkW3MiV",
        "outputId": "a3715299-d613-4815-b358-f658a64c251d"
      },
      "execution_count": null,
      "outputs": [
        {
          "output_type": "error",
          "ename": "TypeError",
          "evalue": "unhashable type: 'dict'",
          "traceback": [
            "\u001b[0;31m---------------------------------------------------------------------------\u001b[0m",
            "\u001b[0;31mTypeError\u001b[0m                                 Traceback (most recent call last)",
            "\u001b[0;32m<ipython-input-31-66a9fa2b8843>\u001b[0m in \u001b[0;36m<cell line: 0>\u001b[0;34m()\u001b[0m\n\u001b[1;32m      9\u001b[0m   \u001b[0;32mreturn\u001b[0m \u001b[0mperson\u001b[0m\u001b[0;34m[\u001b[0m\u001b[0;34m'age'\u001b[0m\u001b[0;34m]\u001b[0m\u001b[0;34m>\u001b[0m\u001b[0;36m30\u001b[0m\u001b[0;34m\u001b[0m\u001b[0;34m\u001b[0m\u001b[0m\n\u001b[1;32m     10\u001b[0m \u001b[0;34m\u001b[0m\u001b[0m\n\u001b[0;32m---> 11\u001b[0;31m \u001b[0mset\u001b[0m\u001b[0;34m(\u001b[0m\u001b[0mfilter\u001b[0m\u001b[0;34m(\u001b[0m\u001b[0mage_greater_than_30\u001b[0m\u001b[0;34m,\u001b[0m\u001b[0mpeople\u001b[0m\u001b[0;34m)\u001b[0m\u001b[0;34m)\u001b[0m\u001b[0;34m\u001b[0m\u001b[0;34m\u001b[0m\u001b[0m\n\u001b[0m",
            "\u001b[0;31mTypeError\u001b[0m: unhashable type: 'dict'"
          ]
        }
      ]
    },
    {
      "cell_type": "code",
      "source": [],
      "metadata": {
        "id": "Y3On0D9B35NC"
      },
      "execution_count": null,
      "outputs": []
    }
  ]
}