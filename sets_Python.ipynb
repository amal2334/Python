{
  "nbformat": 4,
  "nbformat_minor": 0,
  "metadata": {
    "colab": {
      "provenance": [],
      "authorship_tag": "ABX9TyMveh/rknam5Pz2q+C9pSvd",
      "include_colab_link": true
    },
    "kernelspec": {
      "name": "python3",
      "display_name": "Python 3"
    },
    "language_info": {
      "name": "python"
    }
  },
  "cells": [
    {
      "cell_type": "markdown",
      "metadata": {
        "id": "view-in-github",
        "colab_type": "text"
      },
      "source": [
        "<a href=\"https://colab.research.google.com/github/amal2334/Python/blob/main/sets_Python.ipynb\" target=\"_parent\"><img src=\"https://colab.research.google.com/assets/colab-badge.svg\" alt=\"Open In Colab\"/></a>"
      ]
    },
    {
      "cell_type": "markdown",
      "source": [
        "-In this notebook ,we will learn how to define sets .and use them in coding examples\n",
        "-sets is  a type data structure\n",
        "-sets they can't have duplicate values\n"
      ],
      "metadata": {
        "id": "QrmSf4UqNihx"
      }
    },
    {
      "cell_type": "code",
      "source": [
        "#creating sets\n",
        "my_set={1,2,5,7}\n",
        "print(my_set)"
      ],
      "metadata": {
        "colab": {
          "base_uri": "https://localhost:8080/"
        },
        "id": "JsAyxZEWN2vB",
        "outputId": "3e7219db-d732-433c-ef68-ab53186b2767"
      },
      "execution_count": null,
      "outputs": [
        {
          "output_type": "stream",
          "name": "stdout",
          "text": [
            "{1, 2, 5, 7}\n"
          ]
        }
      ]
    },
    {
      "cell_type": "code",
      "source": [
        "my_empty_set=set([4,6,7,9])\n",
        "print(my_empty_set)"
      ],
      "metadata": {
        "colab": {
          "base_uri": "https://localhost:8080/"
        },
        "id": "QdVcOHvPN_K5",
        "outputId": "95b10f74-267e-4e32-ca01-e7b5239e20b5"
      },
      "execution_count": null,
      "outputs": [
        {
          "output_type": "stream",
          "name": "stdout",
          "text": [
            "{9, 4, 6, 7}\n"
          ]
        }
      ]
    },
    {
      "cell_type": "code",
      "source": [
        "#basis sets operation\n",
        "#adding and removing elements\n",
        "my_set.add(10)\n",
        "print(my_set)\n",
        "\n",
        "\n",
        "my_set.add(10)\n",
        "print(my_set)\n",
        "\n",
        "my_set.remove(10)\n",
        "print(my_set)"
      ],
      "metadata": {
        "colab": {
          "base_uri": "https://localhost:8080/"
        },
        "id": "5GP_20VhOJVb",
        "outputId": "0ceb10fe-fd99-443f-cb2d-3c9d6adec434"
      },
      "execution_count": null,
      "outputs": [
        {
          "output_type": "stream",
          "name": "stdout",
          "text": [
            "{1, 2, 5, 10}\n",
            "{1, 2, 5, 10}\n",
            "{1, 2, 5}\n"
          ]
        }
      ]
    },
    {
      "cell_type": "code",
      "source": [
        "#remove an element if it is  amenber in the set ,otherwise don't generate any error message\n",
        "my_set.discard(10)\n",
        "print(my_set)"
      ],
      "metadata": {
        "colab": {
          "base_uri": "https://localhost:8080/"
        },
        "id": "Ktf6qqNWOQST",
        "outputId": "f0d1decc-e084-4ea5-e580-187e413ae61b"
      },
      "execution_count": null,
      "outputs": [
        {
          "output_type": "stream",
          "name": "stdout",
          "text": [
            "{1, 2, 5}\n"
          ]
        }
      ]
    },
    {
      "cell_type": "code",
      "source": [
        "removed_element=my_set.pop()\n",
        "print(removed_element)\n",
        "print(my_set)"
      ],
      "metadata": {
        "colab": {
          "base_uri": "https://localhost:8080/"
        },
        "id": "9GkXDUdAOqha",
        "outputId": "96d2dc43-1eb7-4b41-d13d-aa32426a9d08"
      },
      "execution_count": null,
      "outputs": [
        {
          "output_type": "stream",
          "name": "stdout",
          "text": [
            "2\n",
            "{5}\n"
          ]
        }
      ]
    },
    {
      "cell_type": "code",
      "source": [
        "#clear all the elements in the set\n",
        "my_set.clear()\n",
        "print(my_set)"
      ],
      "metadata": {
        "colab": {
          "base_uri": "https://localhost:8080/"
        },
        "id": "1J4syQjCO3-a",
        "outputId": "d762d84d-74b6-4c5f-f841-53983f100e69"
      },
      "execution_count": null,
      "outputs": [
        {
          "output_type": "stream",
          "name": "stdout",
          "text": [
            "set()\n"
          ]
        }
      ]
    },
    {
      "cell_type": "code",
      "source": [
        "#set membership test\n",
        "my_set={1,2,3,4,5}\n",
        "print(1 in my_set)\n",
        "print(6 in my_set)"
      ],
      "metadata": {
        "colab": {
          "base_uri": "https://localhost:8080/"
        },
        "id": "WBActmgvPEhd",
        "outputId": "7811d6d6-c3f6-430d-c99c-f1511ffda487"
      },
      "execution_count": null,
      "outputs": [
        {
          "output_type": "stream",
          "name": "stdout",
          "text": [
            "True\n",
            "False\n"
          ]
        }
      ]
    },
    {
      "cell_type": "code",
      "source": [
        "#mathematical operation on sets\n",
        "set1={1,2,3,4,5}\n",
        "set2={4,5,6,7,8}\n",
        "\n",
        "#union of two sets\n",
        "union_set=set1.union(set2)\n",
        "print(union_set)\n",
        "#intersection of two set s\n",
        "intersection_set=set1.intersection(set2)\n",
        "print(intersection_set)\n",
        "\n",
        "set1.intersection_update(set2)\n",
        "print(set1)\n",
        "\n",
        "\n",
        "#deffirence operation on set\n",
        "deffrence_set=set1.difference(set2)\n",
        "print(deffrence_set)"
      ],
      "metadata": {
        "colab": {
          "base_uri": "https://localhost:8080/"
        },
        "id": "2YLjkL5_PX8C",
        "outputId": "3a574152-c5e6-4e73-bdaf-04f233ff336b"
      },
      "execution_count": null,
      "outputs": [
        {
          "output_type": "stream",
          "name": "stdout",
          "text": [
            "{1, 2, 3, 4, 5, 6, 7, 8}\n",
            "{4, 5}\n",
            "{4, 5}\n",
            "set()\n"
          ]
        }
      ]
    },
    {
      "cell_type": "code",
      "source": [
        "set2.difference(set1)"
      ],
      "metadata": {
        "colab": {
          "base_uri": "https://localhost:8080/"
        },
        "id": "QSGGTpO_PXTq",
        "outputId": "3d9c861e-be2a-4c6d-a765-59456e27b872"
      },
      "execution_count": null,
      "outputs": [
        {
          "output_type": "execute_result",
          "data": {
            "text/plain": [
              "{6, 7, 8}"
            ]
          },
          "metadata": {},
          "execution_count": 18
        }
      ]
    },
    {
      "cell_type": "code",
      "source": [
        "set1.symmetric_difference(set2)"
      ],
      "metadata": {
        "colab": {
          "base_uri": "https://localhost:8080/"
        },
        "id": "lehHyB8NU0O1",
        "outputId": "35da0a4b-a803-429c-8755-8230193b5d85"
      },
      "execution_count": null,
      "outputs": [
        {
          "output_type": "execute_result",
          "data": {
            "text/plain": [
              "{6, 7, 8}"
            ]
          },
          "metadata": {},
          "execution_count": 19
        }
      ]
    },
    {
      "cell_type": "code",
      "source": [
        "#sets methods\n",
        "set1={1,2,3,4,5}\n",
        "set2={1,2,3,4,5,6,7,8}\n",
        "\n",
        "#is subset\n",
        "print(set1.issubset(set2))\n",
        "#all the elements is set1 are all available in set2\n",
        "#is superset\n",
        "print(set1.issuperset(set2))\n",
        "#all the elements is set2 are all available in set1\n",
        "\n",
        "#is disjoint\n",
        "print(set1.isdisjoint(set2))"
      ],
      "metadata": {
        "colab": {
          "base_uri": "https://localhost:8080/"
        },
        "id": "wdhZenIEU6UD",
        "outputId": "9d075987-220d-4c15-b680-8b3a53dd83c2"
      },
      "execution_count": null,
      "outputs": [
        {
          "output_type": "stream",
          "name": "stdout",
          "text": [
            "True\n",
            "False\n",
            "False\n"
          ]
        }
      ]
    },
    {
      "cell_type": "code",
      "source": [
        "list=[1,2,6,5,8,9,2,6]\n",
        "set(list)\n",
        "#it removes the duplicate values in the list\n",
        "text=\"in this  tutorial we are learning about sets\"\n",
        "words=text.split()\n",
        "unique_words=set(words)\n",
        "print(unique_words)\n",
        "print(len(unique_words))\n"
      ],
      "metadata": {
        "colab": {
          "base_uri": "https://localhost:8080/"
        },
        "id": "jp-T3CKKVMns",
        "outputId": "d5f2918d-d2c9-4db1-e647-a3e14bc20445"
      },
      "execution_count": null,
      "outputs": [
        {
          "output_type": "stream",
          "name": "stdout",
          "text": [
            "{'this', 'learning', 'in', 'tutorial', 'sets', 'we', 'about', 'are'}\n",
            "8\n"
          ]
        }
      ]
    },
    {
      "cell_type": "code",
      "source": [],
      "metadata": {
        "id": "hcFMsMv0VvOZ"
      },
      "execution_count": null,
      "outputs": []
    }
  ]
}