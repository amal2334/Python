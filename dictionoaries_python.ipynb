{
  "nbformat": 4,
  "nbformat_minor": 0,
  "metadata": {
    "colab": {
      "provenance": [],
      "authorship_tag": "ABX9TyPWLtt3RopnEbwpB3r5BMSo",
      "include_colab_link": true
    },
    "kernelspec": {
      "name": "python3",
      "display_name": "Python 3"
    },
    "language_info": {
      "name": "python"
    }
  },
  "cells": [
    {
      "cell_type": "markdown",
      "metadata": {
        "id": "view-in-github",
        "colab_type": "text"
      },
      "source": [
        "<a href=\"https://colab.research.google.com/github/amal2334/Python/blob/main/dictionoaries_python.ipynb\" target=\"_parent\"><img src=\"https://colab.research.google.com/assets/colab-badge.svg\" alt=\"Open In Colab\"/></a>"
      ]
    },
    {
      "cell_type": "markdown",
      "source": [
        "Dictionaries are unordered colections of items , they store data in format of key value type , the keys should be unique and immutable , while values can be of nay type ."
      ],
      "metadata": {
        "id": "O1WsUf8wJuMX"
      }
    },
    {
      "cell_type": "code",
      "source": [
        "empty_dict=dict()\n",
        "empty_dict"
      ],
      "metadata": {
        "colab": {
          "base_uri": "https://localhost:8080/"
        },
        "id": "99LSa48MKTeS",
        "outputId": "027eba92-3f8d-489c-c053-89ba47e6a84e"
      },
      "execution_count": null,
      "outputs": [
        {
          "output_type": "execute_result",
          "data": {
            "text/plain": [
              "{}"
            ]
          },
          "metadata": {},
          "execution_count": 3
        }
      ]
    },
    {
      "cell_type": "code",
      "source": [
        "student ={\"name\": \"amal\" , \"age\": 20, \"gender\": \"male\"}\n",
        "student"
      ],
      "metadata": {
        "colab": {
          "base_uri": "https://localhost:8080/"
        },
        "id": "ZWC6VnjcKYhw",
        "outputId": "c7b64075-ae34-42fe-bc98-0340f908e586"
      },
      "execution_count": null,
      "outputs": [
        {
          "output_type": "execute_result",
          "data": {
            "text/plain": [
              "{'name': 'amal', 'age': 20, 'gender': 'male'}"
            ]
          },
          "metadata": {},
          "execution_count": 4
        }
      ]
    },
    {
      "cell_type": "code",
      "source": [
        "student ={\"name\": \"amal\" , \"age\": 20, \"name\": \"male\"}\n",
        "student\n",
        "#we have two keys age and name  , we redefine the the key name , the value got replace sby thr last name which is male"
      ],
      "metadata": {
        "colab": {
          "base_uri": "https://localhost:8080/"
        },
        "id": "_ZlLxCGZKqSX",
        "outputId": "a2e92bd8-ec75-4490-b28a-5084868a9c65"
      },
      "execution_count": null,
      "outputs": [
        {
          "output_type": "execute_result",
          "data": {
            "text/plain": [
              "{'name': 'male', 'age': 20}"
            ]
          },
          "metadata": {},
          "execution_count": 6
        }
      ]
    },
    {
      "cell_type": "code",
      "source": [
        "#accessing dictionaries elements\n",
        "student ={\"name\": \"amal\" , \"age\": 20, \"gender\": \"male\"}\n",
        "print(student['name'])\n",
        "print(student['age'])"
      ],
      "metadata": {
        "colab": {
          "base_uri": "https://localhost:8080/"
        },
        "id": "ZPXZOyWGK1WB",
        "outputId": "e44c12c4-8d05-400e-a3be-26d80705048d"
      },
      "execution_count": null,
      "outputs": [
        {
          "output_type": "stream",
          "name": "stdout",
          "text": [
            "amal\n",
            "20\n"
          ]
        }
      ]
    },
    {
      "cell_type": "code",
      "source": [
        "#access the values using the gest methods provided by the dictionary data structure\n",
        "print(student.get('name'))\n",
        "print(student.get('age'))\n",
        "print(student.get('last_name'))\n",
        "\n",
        "# when there is no key in the dictinart , it gives us none\n",
        "print(student.get('last_name','not found'))\n"
      ],
      "metadata": {
        "colab": {
          "base_uri": "https://localhost:8080/"
        },
        "id": "0fvFoaauLQHK",
        "outputId": "a8f50694-a2fc-4d19-f7e3-2ca092e2dee4"
      },
      "execution_count": null,
      "outputs": [
        {
          "output_type": "stream",
          "name": "stdout",
          "text": [
            "amal\n",
            "20\n",
            "None\n",
            "not found\n"
          ]
        }
      ]
    },
    {
      "cell_type": "code",
      "source": [
        "#modifiying dictionary elements\n",
        "#dictionart are mutable , so you can add , update or delete elemenst\n",
        "print(student)"
      ],
      "metadata": {
        "colab": {
          "base_uri": "https://localhost:8080/"
        },
        "id": "EMXa5RFkLaYQ",
        "outputId": "950de306-3c60-43b6-fc1d-256b1ffe150e"
      },
      "execution_count": null,
      "outputs": [
        {
          "output_type": "stream",
          "name": "stdout",
          "text": [
            "{'name': 'amal', 'age': 20, 'gender': 'male'}\n"
          ]
        }
      ]
    },
    {
      "cell_type": "code",
      "source": [
        "student['name']=\"chaymae\"\n",
        "print(student)\n",
        "student[\"adress\"]=\" morocco \"\n",
        "print(student)"
      ],
      "metadata": {
        "colab": {
          "base_uri": "https://localhost:8080/"
        },
        "id": "C0gt0KNsMIUQ",
        "outputId": "f63e6867-8484-4802-fd26-429bb7ecfeb1"
      },
      "execution_count": null,
      "outputs": [
        {
          "output_type": "stream",
          "name": "stdout",
          "text": [
            "{'name': 'chaymae', 'age': 20, 'gender': 'male'}\n",
            "{'name': 'chaymae', 'age': 20, 'gender': 'male', 'adress': ' morocco '}\n"
          ]
        }
      ]
    },
    {
      "cell_type": "code",
      "source": [
        "del student['age']\n",
        "print(student)"
      ],
      "metadata": {
        "colab": {
          "base_uri": "https://localhost:8080/"
        },
        "id": "rJ5RWLDvMMiq",
        "outputId": "8515ad98-11f8-4e39-ce84-86bdc7eb5f1a"
      },
      "execution_count": null,
      "outputs": [
        {
          "output_type": "stream",
          "name": "stdout",
          "text": [
            "{'name': 'chaymae', 'gender': 'male', 'adress': ' morocco '}\n"
          ]
        }
      ]
    },
    {
      "cell_type": "code",
      "source": [
        "# common dictionary methods\n",
        "keys=student .keys()\n",
        "print(keys)\n",
        "values =student.values()\n",
        "print(values)\n",
        "items=student.items()\n",
        "print(items)"
      ],
      "metadata": {
        "colab": {
          "base_uri": "https://localhost:8080/"
        },
        "id": "nb6aJlkEMk60",
        "outputId": "d3646710-2b49-4d14-b250-803d22ad1c36"
      },
      "execution_count": null,
      "outputs": [
        {
          "output_type": "stream",
          "name": "stdout",
          "text": [
            "dict_keys(['name', 'gender', 'adress'])\n",
            "dict_values(['chaymae', 'male', ' morocco '])\n",
            "dict_items([('name', 'chaymae'), ('gender', 'male'), ('adress', ' morocco ')])\n"
          ]
        }
      ]
    },
    {
      "cell_type": "code",
      "source": [
        "# shallow copy\n",
        "student_copy=student.copy()\n",
        "print(student_copy)\n",
        "\n",
        "student_copy2=student\n",
        "print(student_copy2)\n",
        "student_copy['name']='amal'\n",
        "student_copy2['name']='amal'\n",
        "print(student_copy)\n",
        "print(student_copy2)\n",
        "student['name']='riad'\n",
        "print(student)\n",
        "print(student_copy)\n",
        "print(student_copy2)"
      ],
      "metadata": {
        "colab": {
          "base_uri": "https://localhost:8080/"
        },
        "id": "YcqjBr3LMxo6",
        "outputId": "3ee002a1-2904-45b8-dc20-bf827fc350ba"
      },
      "execution_count": null,
      "outputs": [
        {
          "output_type": "stream",
          "name": "stdout",
          "text": [
            "{'name': 'amal', 'gender': 'male', 'adress': ' morocco '}\n",
            "{'name': 'amal', 'gender': 'male', 'adress': ' morocco '}\n",
            "{'name': 'amal', 'gender': 'male', 'adress': ' morocco '}\n",
            "{'name': 'amal', 'gender': 'male', 'adress': ' morocco '}\n",
            "{'name': 'riad', 'gender': 'male', 'adress': ' morocco '}\n",
            "{'name': 'amal', 'gender': 'male', 'adress': ' morocco '}\n",
            "{'name': 'riad', 'gender': 'male', 'adress': ' morocco '}\n"
          ]
        }
      ]
    },
    {
      "cell_type": "code",
      "source": [
        "#iterating over dictionaries\n",
        "#you can use loops to iterate items ,keys ,values\n",
        "for key in student :\n",
        "  print(key)"
      ],
      "metadata": {
        "colab": {
          "base_uri": "https://localhost:8080/"
        },
        "id": "kQgOcOIfPTnX",
        "outputId": "0c9fdb9e-f735-4730-d728-c41cb3a57fb1"
      },
      "execution_count": null,
      "outputs": [
        {
          "output_type": "stream",
          "name": "stdout",
          "text": [
            "name\n",
            "gender\n",
            "adress\n"
          ]
        }
      ]
    },
    {
      "cell_type": "code",
      "source": [
        "for key in student :\n",
        "  print(student[key])"
      ],
      "metadata": {
        "colab": {
          "base_uri": "https://localhost:8080/"
        },
        "id": "2IF5IC3JQQMy",
        "outputId": "38240d47-5c0f-4449-920f-49a19841c247"
      },
      "execution_count": null,
      "outputs": [
        {
          "output_type": "stream",
          "name": "stdout",
          "text": [
            "riad\n",
            "male\n",
            " morocco \n"
          ]
        }
      ]
    },
    {
      "cell_type": "code",
      "source": [
        "#iterate over key value pais\n",
        "for key,value in student.items():\n",
        "  print(f\"{key},{value}\")"
      ],
      "metadata": {
        "colab": {
          "base_uri": "https://localhost:8080/"
        },
        "id": "QYQLyjV_QTpF",
        "outputId": "3ae5deb8-b922-459e-fab7-55ac2f9b63cd"
      },
      "execution_count": null,
      "outputs": [
        {
          "output_type": "stream",
          "name": "stdout",
          "text": [
            "name,riad\n",
            "gender,male\n",
            "adress, morocco \n"
          ]
        }
      ]
    },
    {
      "cell_type": "code",
      "source": [
        "#nested dictionaries\n",
        "#nosql databases (mongo db)\n",
        "student ={\n",
        "    \"student1\":{\"name\": \"amal\" , \"age\": 20, \"gender\": \"male\"},\n",
        "    \"student2\":{\"name\": \"chaymae\" , \"age\": 22, \"gender\": \"female\"},\n",
        "    \"student3\":{\"name\": \"riad\" , \"age\":33, \"gender\": \"male\"}\n",
        "}\n",
        "print(student)\n",
        "print(student['student1'])\n",
        "print(student['student1']['name'])\n"
      ],
      "metadata": {
        "colab": {
          "base_uri": "https://localhost:8080/"
        },
        "id": "KQmpV-AUQpl8",
        "outputId": "b3789442-1620-4fff-c2ec-2e23a5c22cc6"
      },
      "execution_count": null,
      "outputs": [
        {
          "output_type": "stream",
          "name": "stdout",
          "text": [
            "{'student1': {'name': 'amal', 'age': 20, 'gender': 'male'}, 'student2': {'name': 'chaymae', 'age': 22, 'gender': 'female'}, 'student3': {'name': 'riad', 'age': 33, 'gender': 'male'}}\n",
            "{'name': 'amal', 'age': 20, 'gender': 'male'}\n",
            "amal\n"
          ]
        }
      ]
    },
    {
      "cell_type": "code",
      "source": [
        "#iterating over nested dictionaries\n",
        "for student_id,student_info in student.items():\n",
        "    print(f\"Student ID: {student_id}\")\n",
        "    print(f\"Name: {student_info['name']}\")\n",
        "    print(f\"Age: {student_info['age']}\")"
      ],
      "metadata": {
        "colab": {
          "base_uri": "https://localhost:8080/"
        },
        "id": "L5Ffg4nLRIng",
        "outputId": "dd6f199d-7039-435a-c30a-20856d086bb9"
      },
      "execution_count": null,
      "outputs": [
        {
          "output_type": "stream",
          "name": "stdout",
          "text": [
            "Student ID: student1\n",
            "Name: amal\n",
            "Age: 20\n",
            "Student ID: student2\n",
            "Name: chaymae\n",
            "Age: 22\n",
            "Student ID: student3\n",
            "Name: riad\n",
            "Age: 33\n"
          ]
        }
      ]
    },
    {
      "cell_type": "code",
      "source": [
        "#dictionary comprehension\n",
        "#what is the specific square of a number between two numbers\n",
        "squares={x:x**2 for x in range(1,11)}\n",
        "print(squares)"
      ],
      "metadata": {
        "colab": {
          "base_uri": "https://localhost:8080/"
        },
        "id": "iuxUwFVoR7TF",
        "outputId": "002047a1-5fb7-4380-838f-8ecdcaeb161b"
      },
      "execution_count": null,
      "outputs": [
        {
          "output_type": "stream",
          "name": "stdout",
          "text": [
            "{1: 1, 2: 4, 3: 9, 4: 16, 5: 25, 6: 36, 7: 49, 8: 64, 9: 81, 10: 100}\n"
          ]
        }
      ]
    },
    {
      "cell_type": "code",
      "source": [
        "#squares of only even numbers\n",
        "even_squares={x:x**2 for x in range(1,11) if x%2==0}\n",
        "print(even_squares)"
      ],
      "metadata": {
        "colab": {
          "base_uri": "https://localhost:8080/"
        },
        "id": "1tue3JNHSm0W",
        "outputId": "615d15df-e6b4-4a81-a201-caf946736563"
      },
      "execution_count": null,
      "outputs": [
        {
          "output_type": "stream",
          "name": "stdout",
          "text": [
            "{2: 4, 4: 16, 6: 36, 8: 64, 10: 100}\n"
          ]
        }
      ]
    },
    {
      "cell_type": "code",
      "source": [
        "odd_squares ={x:x**2 for x in range (1,11) if x%2!=0}\n",
        "print(odd_squares)"
      ],
      "metadata": {
        "colab": {
          "base_uri": "https://localhost:8080/"
        },
        "id": "plkPYI_zS0kM",
        "outputId": "097445a2-3a38-4e89-f1f2-7e705451b539"
      },
      "execution_count": null,
      "outputs": [
        {
          "output_type": "stream",
          "name": "stdout",
          "text": [
            "{1: 1, 3: 9, 5: 25, 7: 49, 9: 81}\n"
          ]
        }
      ]
    },
    {
      "cell_type": "code",
      "source": [
        "#use a dictionart ti count the frequency of elemts in the list\n",
        "numbers=[1,2,3,3,5,8,9,8,8,9]\n",
        "frequency={}\n",
        "for num in numbers:\n",
        "    if num in frequency:\n",
        "        frequency[num]+=1\n",
        "    else:\n",
        "        frequency[num]=1\n",
        "print(frequency)"
      ],
      "metadata": {
        "colab": {
          "base_uri": "https://localhost:8080/"
        },
        "id": "6D0O8T5DTCOw",
        "outputId": "c9e48365-f46b-4720-958d-51a6e9db5175"
      },
      "execution_count": null,
      "outputs": [
        {
          "output_type": "stream",
          "name": "stdout",
          "text": [
            "{1: 1, 2: 1, 3: 2, 5: 1, 8: 3, 9: 2}\n"
          ]
        }
      ]
    },
    {
      "cell_type": "code",
      "source": [
        "#merge 2 dictionaries into one\n",
        "dict1={\"a\":1,\"b\":2}\n",
        "dict2={\"c\":3,\"d\":4}\n",
        "dict3={**dict1,**dict2}\n",
        "print(dict3)"
      ],
      "metadata": {
        "colab": {
          "base_uri": "https://localhost:8080/"
        },
        "id": "Fp2CmApBTpzs",
        "outputId": "5f3edd5a-3b2d-4a4a-9168-56134fb999ce"
      },
      "execution_count": null,
      "outputs": [
        {
          "output_type": "stream",
          "name": "stdout",
          "text": [
            "{'a': 1, 'b': 2, 'c': 3, 'd': 4}\n"
          ]
        }
      ]
    },
    {
      "cell_type": "code",
      "source": [],
      "metadata": {
        "id": "LlkjUylWUQDF"
      },
      "execution_count": null,
      "outputs": []
    }
  ]
}