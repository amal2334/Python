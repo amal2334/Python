{
  "cells": [
    {
      "cell_type": "markdown",
      "metadata": {
        "id": "view-in-github",
        "colab_type": "text"
      },
      "source": [
        "<a href=\"https://colab.research.google.com/github/amal2334/Python/blob/main/list_Assignment.ipynb\" target=\"_parent\"><img src=\"https://colab.research.google.com/assets/colab-badge.svg\" alt=\"Open In Colab\"/></a>"
      ]
    },
    {
      "cell_type": "markdown",
      "metadata": {
        "id": "A0lhNK5KP-MJ"
      },
      "source": [
        "# Module 3: Data Structures Assignments\n",
        "## Lesson 3.1: Lists\n",
        "### Assignment 1: Creating and Accessing Lists\n",
        "\n",
        "Create a list of the first 20 positive integers. Print the list.\n",
        "\n",
        "### Assignment 2: Accessing List Elements\n",
        "\n",
        "Print the first, middle, and last elements of the list created in Assignment 1.\n",
        "\n",
        "### Assignment 3: List Slicing\n",
        "\n",
        "Print the first five elements, the last five elements, and the elements from index 5 to 15 of the list created in Assignment 1.\n",
        "\n",
        "### Assignment 4: List Comprehensions\n",
        "\n",
        "Create a new list containing the squares of the first 10 positive integers using a list comprehension. Print the new list.\n",
        "\n",
        "### Assignment 5: Filtering Lists\n",
        "\n",
        "Create a new list containing only the even numbers from the list created in Assignment 1 using a list comprehension. Print the new list.\n",
        "\n",
        "### Assignment 6: List Methods\n",
        "\n",
        "Create a list of random numbers and sort it in ascending and descending order. Remove the duplicates from the list and print the modified list.\n",
        "\n",
        "### Assignment 7: Nested Lists\n",
        "\n",
        "Create a nested list representing a 3x3 matrix and print the matrix. Access and print the element at the second row and third column.\n",
        "\n",
        "### Assignment 8: List of Dictionaries\n",
        "\n",
        "Create a list of dictionaries where each dictionary represents a student with keys 'name' and 'score'. Sort the list of dictionaries by the 'score' in descending order and print the sorted list.\n",
        "\n",
        "### Assignment 9: Matrix Transposition\n",
        "\n",
        "Write a function that takes a 3x3 matrix (nested list) as input and returns its transpose. Print the original and transposed matrices.\n",
        "\n",
        "### Assignment 10: Flattening a Nested List\n",
        "\n",
        "Write a function that takes a nested list and flattens it into a single list. Print the original and flattened lists.\n",
        "\n",
        "### Assignment 11: List Manipulation\n",
        "\n",
        "Create a list of the first 10 positive integers. Remove the elements at indices 2, 4, and 6, and insert the element '99' at index 5. Print the modified list.\n",
        "\n",
        "### Assignment 12: List Zipping\n",
        "\n",
        "Create two lists of the same length. Use the `zip` function to combine these lists into a list of tuples and print the result.\n",
        "\n",
        "### Assignment 13: List Reversal\n",
        "\n",
        "Write a function that takes a list and returns a new list with the elements in reverse order. Print the original and reversed lists.\n",
        "\n",
        "### Assignment 14: List Rotation\n",
        "\n",
        "Write a function that rotates a list by n positions. Print the original and rotated lists.\n",
        "\n",
        "### Assignment 15: List Intersection\n",
        "\n",
        "Write a function that takes two lists and returns a new list containing only the elements that are present in both lists. Print the intersected list."
      ],
      "id": "A0lhNK5KP-MJ"
    },
    {
      "cell_type": "markdown",
      "source": [
        "### Assignment 1: Creating and Accessing Lists\n",
        "\n",
        "- Create a list of the first 20 positive integers. Print the list.\n"
      ],
      "metadata": {
        "id": "dCDlu83iQGkO"
      },
      "id": "dCDlu83iQGkO"
    },
    {
      "cell_type": "code",
      "source": [
        "number=[integer for integer in range (20)]\n",
        "print(number)"
      ],
      "metadata": {
        "id": "H8jm_g-wQPFG",
        "colab": {
          "base_uri": "https://localhost:8080/"
        },
        "outputId": "1c2e33d2-49fa-4030-8b36-020505bdad57"
      },
      "id": "H8jm_g-wQPFG",
      "execution_count": null,
      "outputs": [
        {
          "output_type": "stream",
          "name": "stdout",
          "text": [
            "[0, 1, 2, 3, 4, 5, 6, 7, 8, 9, 10, 11, 12, 13, 14, 15, 16, 17, 18, 19]\n"
          ]
        }
      ]
    },
    {
      "cell_type": "markdown",
      "source": [
        "### Assignment 2: Accessing List Elements\n",
        "\n",
        "Print the first, middle, and last elements of the list created in Assignment 1."
      ],
      "metadata": {
        "id": "dagyZMmtV0b2"
      },
      "id": "dagyZMmtV0b2"
    },
    {
      "cell_type": "code",
      "source": [
        "number=[integer for integer in range(20)]\n",
        "\n",
        "print(number[0])\n",
        "print(number[9])\n",
        "print(number[19])\n",
        "\n",
        "#this is another way of doing it\n",
        "print(number[-20])\n",
        "print(number[-11])\n",
        "print(number[-1])"
      ],
      "metadata": {
        "colab": {
          "base_uri": "https://localhost:8080/"
        },
        "id": "GxErMrsiV11x",
        "outputId": "0af69490-3716-4d56-809a-a91b7104ee4c"
      },
      "id": "GxErMrsiV11x",
      "execution_count": null,
      "outputs": [
        {
          "output_type": "stream",
          "name": "stdout",
          "text": [
            "0\n",
            "9\n",
            "19\n",
            "0\n",
            "9\n",
            "19\n"
          ]
        }
      ]
    },
    {
      "cell_type": "markdown",
      "source": [
        "### Assignment 3: List Slicing\n",
        "\n",
        "Print the first five elements, the last five elements, and the elements from index 5 to 15 of the list created in Assignment 1."
      ],
      "metadata": {
        "id": "ubSxiL5yXArZ"
      },
      "id": "ubSxiL5yXArZ"
    },
    {
      "cell_type": "code",
      "source": [
        "print(number[0:5])\n",
        "print(number[-5:])\n",
        "print(number[5:16])"
      ],
      "metadata": {
        "colab": {
          "base_uri": "https://localhost:8080/"
        },
        "id": "1qA_EAo_XBvI",
        "outputId": "1208e9d6-3135-47ab-b390-bae6f6968211"
      },
      "id": "1qA_EAo_XBvI",
      "execution_count": null,
      "outputs": [
        {
          "output_type": "stream",
          "name": "stdout",
          "text": [
            "[0, 1, 2, 3, 4]\n",
            "[15, 16, 17, 18, 19]\n",
            "[5, 6, 7, 8, 9, 10, 11, 12, 13, 14, 15]\n"
          ]
        }
      ]
    },
    {
      "cell_type": "markdown",
      "source": [
        "### Assignment 4: List Comprehensions\n",
        "\n",
        "Create a new list containing the squares of the first 10 positive integers using a list comprehension. Print the new list."
      ],
      "metadata": {
        "id": "kuYbQmGsXgsU"
      },
      "id": "kuYbQmGsXgsU"
    },
    {
      "cell_type": "code",
      "source": [
        "square=[x**2 for x in range(1,11)]\n",
        "print(square)"
      ],
      "metadata": {
        "colab": {
          "base_uri": "https://localhost:8080/"
        },
        "id": "1YyItUymXhz3",
        "outputId": "8ac056e5-ca2d-4694-b3f8-a851880f2042"
      },
      "id": "1YyItUymXhz3",
      "execution_count": null,
      "outputs": [
        {
          "output_type": "stream",
          "name": "stdout",
          "text": [
            "[1, 4, 9, 16, 25, 36, 49, 64, 81, 100]\n"
          ]
        }
      ]
    },
    {
      "cell_type": "markdown",
      "source": [
        "\n",
        "### Assignment 5: Filtering Lists\n",
        "\n",
        "Create a new list containing only the even numbers from the list created in Assignment 1 using a list comprehension. Print the new list.\n"
      ],
      "metadata": {
        "id": "fiKMBnzXXuDy"
      },
      "id": "fiKMBnzXXuDy"
    },
    {
      "cell_type": "code",
      "source": [
        "even_numbers=[x**2 for x in range(1,20)]\n",
        "print(even_numbers)"
      ],
      "metadata": {
        "colab": {
          "base_uri": "https://localhost:8080/"
        },
        "id": "DHpz3sE1Xu0Q",
        "outputId": "16b95999-0498-4c3f-8b44-e8c9155452ed"
      },
      "id": "DHpz3sE1Xu0Q",
      "execution_count": null,
      "outputs": [
        {
          "output_type": "stream",
          "name": "stdout",
          "text": [
            "[1, 4, 9, 16, 25, 36, 49, 64, 81, 100, 121, 144, 169, 196, 225, 256, 289, 324, 361]\n"
          ]
        }
      ]
    },
    {
      "cell_type": "markdown",
      "source": [
        "### Assignment 6: List Methods\n",
        "\n",
        "Create a list of random numbers and sort it in ascending and descending order. Remove the duplicates from the list and print the modified list."
      ],
      "metadata": {
        "id": "hrSShaGtYuIO"
      },
      "id": "hrSShaGtYuIO"
    },
    {
      "cell_type": "code",
      "source": [
        "import random\n",
        "random_numbers=[random.randint(1,50) for _ in range (20)  ]\n",
        "print(random_numbers)\n",
        "random_numbers.sort()\n",
        "print(random_numbers)\n",
        "random_numbers.sort(reverse=True)\n",
        "print(random_numbers)\n",
        "#we will delete duplicate values in the list\n",
        "unique_numbers=list(set(random_numbers))\n",
        "print(unique_numbers)\n",
        "\n",
        "\n",
        "\n"
      ],
      "metadata": {
        "colab": {
          "base_uri": "https://localhost:8080/"
        },
        "id": "PNFsxGOuYu0X",
        "outputId": "560af777-c6f3-49a4-de47-611732976293"
      },
      "id": "PNFsxGOuYu0X",
      "execution_count": null,
      "outputs": [
        {
          "output_type": "stream",
          "name": "stdout",
          "text": [
            "[10, 2, 10, 12, 10, 2, 14, 34, 20, 22, 46, 2, 24, 33, 39, 21, 3, 50, 44, 23]\n",
            "[2, 2, 2, 3, 10, 10, 10, 12, 14, 20, 21, 22, 23, 24, 33, 34, 39, 44, 46, 50]\n",
            "[50, 46, 44, 39, 34, 33, 24, 23, 22, 21, 20, 14, 12, 10, 10, 10, 3, 2, 2, 2]\n",
            "[33, 34, 3, 2, 39, 10, 44, 12, 46, 14, 50, 20, 21, 22, 23, 24]\n"
          ]
        }
      ]
    },
    {
      "cell_type": "markdown",
      "source": [
        "### Assignment 7: Nested Lists\n",
        "\n",
        "Create a nested list representing a 3x3 matrix and print the matrix. Access and print the element at the second row and third column."
      ],
      "metadata": {
        "id": "cVn9npDicrbA"
      },
      "id": "cVn9npDicrbA"
    },
    {
      "cell_type": "code",
      "source": [
        "nested_list=[[[5,8,7],[4,2,7],[7,8,9]]]\n",
        "print(nested_list)\n",
        "print(nested_list[0][1][2])"
      ],
      "metadata": {
        "colab": {
          "base_uri": "https://localhost:8080/"
        },
        "id": "hDn51H5WcsLM",
        "outputId": "83b394dc-491d-448f-b9c8-ee05a014a690"
      },
      "id": "hDn51H5WcsLM",
      "execution_count": null,
      "outputs": [
        {
          "output_type": "stream",
          "name": "stdout",
          "text": [
            "[[[5, 8, 7], [4, 2, 7], [7, 8, 9]]]\n",
            "7\n"
          ]
        }
      ]
    },
    {
      "cell_type": "code",
      "source": [],
      "metadata": {
        "id": "uabr95_Gc72T"
      },
      "id": "uabr95_Gc72T",
      "execution_count": null,
      "outputs": []
    }
  ],
  "metadata": {
    "kernelspec": {
      "display_name": "Python 3",
      "language": "python",
      "name": "python3"
    },
    "language_info": {
      "codemirror_mode": {
        "name": "ipython",
        "version": 3
      },
      "file_extension": ".py",
      "mimetype": "text/x-python",
      "name": "python",
      "nbconvert_exporter": "python",
      "pygments_lexer": "ipython3",
      "version": "3.9.7"
    },
    "colab": {
      "provenance": [],
      "include_colab_link": true
    }
  },
  "nbformat": 4,
  "nbformat_minor": 5
}